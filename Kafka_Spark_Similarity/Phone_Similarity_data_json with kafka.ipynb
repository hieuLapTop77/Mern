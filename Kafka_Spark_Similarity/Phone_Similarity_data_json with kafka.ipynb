{
 "cells": [
  {
   "cell_type": "code",
   "execution_count": 1,
   "metadata": {
    "id": "VzNCjfBhB1pi"
   },
   "outputs": [],
   "source": [
    "from pyspark.sql import SparkSession\n",
    "from pyspark.sql.functions import *\n",
    "from pyspark.ml.feature import Normalizer, StandardScaler\n",
    "import random\n",
    "\n",
    "import time\n",
    "\n",
    "spark = SparkSession \\\n",
    "        .builder \\\n",
    "        .appName(\"Phone_Similarity\") \\\n",
    "        .master(\"local[*]\") \\\n",
    "        .getOrCreate()\n",
    "\n",
    "spark.sparkContext.setLogLevel(\"ERROR\")"
   ]
  },
  {
   "cell_type": "code",
   "execution_count": null,
   "metadata": {},
   "outputs": [],
   "source": [
    "#import phone from mongodb\n"
   ]
  },
  {
   "cell_type": "code",
   "execution_count": 2,
   "metadata": {
    "colab": {
     "base_uri": "https://localhost:8080/"
    },
    "id": "lxVMjxWV78F1",
    "outputId": "e937bb4a-a7b5-4114-ab17-b390c3e376d9"
   },
   "outputs": [
    {
     "name": "stdout",
     "output_type": "stream",
     "text": [
      "root\n",
      " |-- __v: long (nullable = true)\n",
      " |-- _id: string (nullable = true)\n",
      " |-- camera: string (nullable = true)\n",
      " |-- category: string (nullable = true)\n",
      " |-- checked: boolean (nullable = true)\n",
      " |-- color: string (nullable = true)\n",
      " |-- content: string (nullable = true)\n",
      " |-- createdAt: string (nullable = true)\n",
      " |-- description: string (nullable = true)\n",
      " |-- images: struct (nullable = true)\n",
      " |    |-- public_id: string (nullable = true)\n",
      " |    |-- url: string (nullable = true)\n",
      " |-- memory: long (nullable = true)\n",
      " |-- pin: long (nullable = true)\n",
      " |-- price: long (nullable = true)\n",
      " |-- product_id: string (nullable = true)\n",
      " |-- ram: long (nullable = true)\n",
      " |-- screenSize: string (nullable = true)\n",
      " |-- sold: long (nullable = true)\n",
      " |-- status: string (nullable = true)\n",
      " |-- title: string (nullable = true)\n",
      " |-- updatedAt: string (nullable = true)\n",
      "\n"
     ]
    }
   ],
   "source": [
    "phone_data=spark.read.option(\"multiline\",\"true\").json('products.json')\n",
    "phone_data.printSchema()\n",
    "phone_data = phone_data.select('_id',\n",
    "                                'title',\n",
    "                                'category',\n",
    "                                'color',\n",
    "                                'memory',\n",
    "                                'pin',\n",
    "                                'ram',\n",
    "                                'screenSize',\n",
    "                                'status',\n",
    "                                'price')"
   ]
  },
  {
   "cell_type": "code",
   "execution_count": 3,
   "metadata": {
    "colab": {
     "base_uri": "https://localhost:8080/"
    },
    "id": "Ak8d0yjo9DAe",
    "outputId": "c4084334-31bf-4bb6-f6e5-07443e0d5d86"
   },
   "outputs": [
    {
     "data": {
      "text/plain": [
       "['_id',\n",
       " 'title',\n",
       " 'category',\n",
       " 'color',\n",
       " 'memory',\n",
       " 'pin',\n",
       " 'ram',\n",
       " 'screenSize',\n",
       " 'status',\n",
       " 'price']"
      ]
     },
     "execution_count": 3,
     "metadata": {},
     "output_type": "execute_result"
    }
   ],
   "source": [
    "from pyspark.ml.feature import VectorAssembler\n",
    "phone_data.columns"
   ]
  },
  {
   "cell_type": "code",
   "execution_count": 4,
   "metadata": {
    "colab": {
     "base_uri": "https://localhost:8080/"
    },
    "id": "RS0jIXeg-9gA",
    "outputId": "0f8aa3d0-af5a-424e-a7e9-12d8b72f064a"
   },
   "outputs": [
    {
     "data": {
      "text/plain": [
       "[Row(_id='6194895c30e6b7130bb06add', title='iphone 13 pink', category='61947f86613ccbeacb59e5b8', color='Pink', memory=128, pin=3095, ram=6, screenSize='6.1', status='New', price=1100),\n",
       " Row(_id='61948b652d9fa1d9e7da2d3a', title='iphone 13 pro max white', category='61947f86613ccbeacb59e5b8', color='White', memory=256, pin=3300, ram=6, screenSize='6.3', status='New', price=1300),\n",
       " Row(_id='6194b8b0bb6b5b34d3a626b1', title='samsung galaxy z flip3 5g', category='619487730327b0eef3a53fe4', color='Black', memory=128, pin=3300, ram=8, screenSize='6.7', status='New', price=1050),\n",
       " Row(_id='6194b9aebb6b5b34d3a626b7', title='samsung galaxy a72 shiny black', category='619487730327b0eef3a53fe4', color='Shiny Black', memory=256, pin=5000, ram=8, screenSize='6.7', status='New', price=500),\n",
       " Row(_id='6194ba78bb6b5b34d3a626c8', title='samsung galaxy a72 turquoise', category='619487730327b0eef3a53fe4', color='Turquoise', memory=256, pin=5000, ram=8, screenSize='6.7', status='New', price=500)]"
      ]
     },
     "execution_count": 4,
     "metadata": {},
     "output_type": "execute_result"
    }
   ],
   "source": [
    "phone_data.head(5)"
   ]
  },
  {
   "cell_type": "code",
   "execution_count": 5,
   "metadata": {
    "colab": {
     "base_uri": "https://localhost:8080/"
    },
    "id": "nyTIDluavY8a",
    "outputId": "292b127c-f57f-455e-e756-6f7e0949868d"
   },
   "outputs": [
    {
     "data": {
      "text/plain": [
       "['6194877b0327b0eef3a53fe9',\n",
       " '61947f86613ccbeacb59e5b8',\n",
       " '619487730327b0eef3a53fe4',\n",
       " '61947f8e613ccbeacb59e5bd',\n",
       " '_id',\n",
       " 'title',\n",
       " 'category',\n",
       " 'color',\n",
       " 'memory',\n",
       " 'pin',\n",
       " 'ram',\n",
       " 'screenSize',\n",
       " 'status',\n",
       " 'price']"
      ]
     },
     "execution_count": 5,
     "metadata": {},
     "output_type": "execute_result"
    }
   ],
   "source": [
    "import pyspark.sql.functions as F \n",
    "categ_air = phone_data.select('category').distinct().rdd.flatMap(lambda x:x).collect()\n",
    "exprs_air = [F.when(F.col('category') == cat,1).otherwise(0).alias(str(cat)) for cat in categ_air]\n",
    "phone_data = phone_data.select(exprs_air + phone_data.columns)\n",
    "phone_data.columns"
   ]
  },
  {
   "cell_type": "code",
   "execution_count": 6,
   "metadata": {
    "colab": {
     "base_uri": "https://localhost:8080/"
    },
    "id": "KHhA83p_wDwX",
    "outputId": "24b107ef-93bf-476e-f012-60d18f99fcad"
   },
   "outputs": [
    {
     "data": {
      "text/plain": [
       "['Shiny Black',\n",
       " 'Turquoise',\n",
       " 'Silver',\n",
       " 'Green',\n",
       " 'Purple',\n",
       " 'Blue',\n",
       " 'White',\n",
       " 'Gold',\n",
       " 'Mint Green',\n",
       " 'Black',\n",
       " 'Red',\n",
       " 'Pink',\n",
       " '6194877b0327b0eef3a53fe9',\n",
       " '61947f86613ccbeacb59e5b8',\n",
       " '619487730327b0eef3a53fe4',\n",
       " '61947f8e613ccbeacb59e5bd',\n",
       " '_id',\n",
       " 'title',\n",
       " 'category',\n",
       " 'color',\n",
       " 'memory',\n",
       " 'pin',\n",
       " 'ram',\n",
       " 'screenSize',\n",
       " 'status',\n",
       " 'price']"
      ]
     },
     "execution_count": 6,
     "metadata": {},
     "output_type": "execute_result"
    }
   ],
   "source": [
    "categ_air = phone_data.select('color').distinct().rdd.flatMap(lambda x:x).collect()\n",
    "exprs_air = [F.when(F.col('color') == cat,1).otherwise(0).alias(str(cat)) for cat in categ_air]\n",
    "phone_data = phone_data.select(exprs_air + phone_data.columns)\n",
    "phone_data.columns"
   ]
  },
  {
   "cell_type": "code",
   "execution_count": 7,
   "metadata": {
    "colab": {
     "base_uri": "https://localhost:8080/"
    },
    "id": "5rcqdovXwMxa",
    "outputId": "6ddc8e9f-598f-4276-ed5e-326918447c2a"
   },
   "outputs": [
    {
     "data": {
      "text/plain": [
       "['99',\n",
       " 'New',\n",
       " 'Shiny Black',\n",
       " 'Turquoise',\n",
       " 'Silver',\n",
       " 'Green',\n",
       " 'Purple',\n",
       " 'Blue',\n",
       " 'White',\n",
       " 'Gold',\n",
       " 'Mint Green',\n",
       " 'Black',\n",
       " 'Red',\n",
       " 'Pink',\n",
       " '6194877b0327b0eef3a53fe9',\n",
       " '61947f86613ccbeacb59e5b8',\n",
       " '619487730327b0eef3a53fe4',\n",
       " '61947f8e613ccbeacb59e5bd',\n",
       " '_id',\n",
       " 'title',\n",
       " 'category',\n",
       " 'color',\n",
       " 'memory',\n",
       " 'pin',\n",
       " 'ram',\n",
       " 'screenSize',\n",
       " 'status',\n",
       " 'price']"
      ]
     },
     "execution_count": 7,
     "metadata": {},
     "output_type": "execute_result"
    }
   ],
   "source": [
    "categ_air = phone_data.select('status').distinct().rdd.flatMap(lambda x:x).collect()\n",
    "exprs_air = [F.when(F.col('status') == cat,1).otherwise(0).alias(str(cat)) for cat in categ_air]\n",
    "phone_data = phone_data.select(exprs_air + phone_data.columns)\n",
    "phone_data.columns"
   ]
  },
  {
   "cell_type": "code",
   "execution_count": 8,
   "metadata": {
    "colab": {
     "base_uri": "https://localhost:8080/"
    },
    "id": "0HVdRBPuAy07",
    "outputId": "67355c41-1627-4030-ec4f-ee82884c52d3"
   },
   "outputs": [
    {
     "data": {
      "text/plain": [
       "[Row(99=0, New=1, Shiny Black=0, Turquoise=0, Silver=0, Green=0, Purple=0, Blue=0, White=0, Gold=0, Mint Green=0, Black=0, Red=0, Pink=1, 6194877b0327b0eef3a53fe9=0, 61947f86613ccbeacb59e5b8=1, 619487730327b0eef3a53fe4=0, 61947f8e613ccbeacb59e5bd=0, _id='6194895c30e6b7130bb06add', title='iphone 13 pink', category='61947f86613ccbeacb59e5b8', color='Pink', memory=128, pin=3095, ram=6, screenSize=6.1, status='New', price=1100),\n",
       " Row(99=0, New=1, Shiny Black=0, Turquoise=0, Silver=0, Green=0, Purple=0, Blue=0, White=1, Gold=0, Mint Green=0, Black=0, Red=0, Pink=0, 6194877b0327b0eef3a53fe9=0, 61947f86613ccbeacb59e5b8=1, 619487730327b0eef3a53fe4=0, 61947f8e613ccbeacb59e5bd=0, _id='61948b652d9fa1d9e7da2d3a', title='iphone 13 pro max white', category='61947f86613ccbeacb59e5b8', color='White', memory=256, pin=3300, ram=6, screenSize=6.3, status='New', price=1300),\n",
       " Row(99=0, New=1, Shiny Black=0, Turquoise=0, Silver=0, Green=0, Purple=0, Blue=0, White=0, Gold=0, Mint Green=0, Black=1, Red=0, Pink=0, 6194877b0327b0eef3a53fe9=0, 61947f86613ccbeacb59e5b8=0, 619487730327b0eef3a53fe4=1, 61947f8e613ccbeacb59e5bd=0, _id='6194b8b0bb6b5b34d3a626b1', title='samsung galaxy z flip3 5g', category='619487730327b0eef3a53fe4', color='Black', memory=128, pin=3300, ram=8, screenSize=6.7, status='New', price=1050),\n",
       " Row(99=0, New=1, Shiny Black=1, Turquoise=0, Silver=0, Green=0, Purple=0, Blue=0, White=0, Gold=0, Mint Green=0, Black=0, Red=0, Pink=0, 6194877b0327b0eef3a53fe9=0, 61947f86613ccbeacb59e5b8=0, 619487730327b0eef3a53fe4=1, 61947f8e613ccbeacb59e5bd=0, _id='6194b9aebb6b5b34d3a626b7', title='samsung galaxy a72 shiny black', category='619487730327b0eef3a53fe4', color='Shiny Black', memory=256, pin=5000, ram=8, screenSize=6.7, status='New', price=500),\n",
       " Row(99=0, New=1, Shiny Black=0, Turquoise=1, Silver=0, Green=0, Purple=0, Blue=0, White=0, Gold=0, Mint Green=0, Black=0, Red=0, Pink=0, 6194877b0327b0eef3a53fe9=0, 61947f86613ccbeacb59e5b8=0, 619487730327b0eef3a53fe4=1, 61947f8e613ccbeacb59e5bd=0, _id='6194ba78bb6b5b34d3a626c8', title='samsung galaxy a72 turquoise', category='619487730327b0eef3a53fe4', color='Turquoise', memory=256, pin=5000, ram=8, screenSize=6.7, status='New', price=500)]"
      ]
     },
     "execution_count": 8,
     "metadata": {},
     "output_type": "execute_result"
    }
   ],
   "source": [
    "from pyspark.sql.types import DoubleType\n",
    "changedTypedf = phone_data.withColumn(\"screenSize\", phone_data[\"screenSize\"].cast(DoubleType()))\n",
    "changedTypedf.head(5)"
   ]
  },
  {
   "cell_type": "code",
   "execution_count": 9,
   "metadata": {
    "colab": {
     "base_uri": "https://localhost:8080/"
    },
    "id": "Ny67kdQw-M7-",
    "outputId": "5f8df318-dd71-441c-e689-d3112d59fa52"
   },
   "outputs": [
    {
     "name": "stdout",
     "output_type": "stream",
     "text": [
      "+---+---+-----------+---------+------+-----+------+----+-----+----+----------+-----+---+----+------------------------+------------------------+------------------------+------------------------+--------------------+--------------------+--------------------+-----+------+----+---+----------+------+-----+--------------------+\n",
      "| 99|New|Shiny Black|Turquoise|Silver|Green|Purple|Blue|White|Gold|Mint Green|Black|Red|Pink|6194877b0327b0eef3a53fe9|61947f86613ccbeacb59e5b8|619487730327b0eef3a53fe4|61947f8e613ccbeacb59e5bd|                 _id|               title|            category|color|memory| pin|ram|screenSize|status|price|            features|\n",
      "+---+---+-----------+---------+------+-----+------+----+-----+----+----------+-----+---+----+------------------------+------------------------+------------------------+------------------------+--------------------+--------------------+--------------------+-----+------+----+---+----------+------+-----+--------------------+\n",
      "|  0|  1|          0|        0|     0|    0|     0|   0|    0|   0|         0|    0|  0|   1|                       0|                       1|                       0|                       0|6194895c30e6b7130...|      iphone 13 pink|61947f86613ccbeac...| Pink|   128|3095|  6|       6.1|   New| 1100|(23,[1,13,15,18,1...|\n",
      "|  0|  1|          0|        0|     0|    0|     0|   0|    1|   0|         0|    0|  0|   0|                       0|                       1|                       0|                       0|61948b652d9fa1d9e...|iphone 13 pro max...|61947f86613ccbeac...|White|   256|3300|  6|       6.3|   New| 1300|(23,[1,8,15,18,19...|\n",
      "+---+---+-----------+---------+------+-----+------+----+-----+----+----------+-----+---+----+------------------------+------------------------+------------------------+------------------------+--------------------+--------------------+--------------------+-----+------+----+---+----------+------+-----+--------------------+\n",
      "only showing top 2 rows\n",
      "\n"
     ]
    }
   ],
   "source": [
    "assemble=VectorAssembler(inputCols=['99',\n",
    " 'New',\n",
    " 'Shiny Black',\n",
    " 'Turquoise',\n",
    " 'Silver',\n",
    " 'Green',\n",
    " 'Purple',\n",
    " 'Blue',\n",
    " 'White',\n",
    " 'Gold',\n",
    " 'Mint Green',\n",
    " 'Black',\n",
    " 'Red',\n",
    " 'Pink',\n",
    " '6194877b0327b0eef3a53fe9',\n",
    " '61947f86613ccbeacb59e5b8',\n",
    " '619487730327b0eef3a53fe4',\n",
    " '61947f8e613ccbeacb59e5bd',\n",
    " 'memory',\n",
    " 'pin',\n",
    " 'ram',\n",
    " 'screenSize',\n",
    " 'price'], outputCol='features')\n",
    "assembled_data=assemble.transform(changedTypedf)\n",
    "assembled_data.show(2)"
   ]
  },
  {
   "cell_type": "markdown",
   "metadata": {
    "id": "13ah-ZPSC3Yb"
   },
   "source": []
  },
  {
   "cell_type": "code",
   "execution_count": 10,
   "metadata": {
    "colab": {
     "base_uri": "https://localhost:8080/"
    },
    "id": "3oeNI-Bm-dql",
    "outputId": "8a2f42dc-e9b3-4bce-80cc-4eac04cba2d4"
   },
   "outputs": [
    {
     "name": "stdout",
     "output_type": "stream",
     "text": [
      "+---+---+-----------+---------+------+-----+------+----+-----+----+----------+-----+---+----+------------------------+------------------------+------------------------+------------------------+--------------------+--------------------+--------------------+-----+------+----+---+----------+------+-----+--------------------+--------------------+\n",
      "| 99|New|Shiny Black|Turquoise|Silver|Green|Purple|Blue|White|Gold|Mint Green|Black|Red|Pink|6194877b0327b0eef3a53fe9|61947f86613ccbeacb59e5b8|619487730327b0eef3a53fe4|61947f8e613ccbeacb59e5bd|                 _id|               title|            category|color|memory| pin|ram|screenSize|status|price|            features|        standardized|\n",
      "+---+---+-----------+---------+------+-----+------+----+-----+----+----------+-----+---+----+------------------------+------------------------+------------------------+------------------------+--------------------+--------------------+--------------------+-----+------+----+---+----------+------+-----+--------------------+--------------------+\n",
      "|  0|  1|          0|        0|     0|    0|     0|   0|    0|   0|         0|    0|  0|   1|                       0|                       1|                       0|                       0|6194895c30e6b7130...|      iphone 13 pink|61947f86613ccbeac...| Pink|   128|3095|  6|       6.1|   New| 1100|(23,[1,13,15,18,1...|(23,[1,13,15,18,1...|\n",
      "|  0|  1|          0|        0|     0|    0|     0|   0|    1|   0|         0|    0|  0|   0|                       0|                       1|                       0|                       0|61948b652d9fa1d9e...|iphone 13 pro max...|61947f86613ccbeac...|White|   256|3300|  6|       6.3|   New| 1300|(23,[1,8,15,18,19...|(23,[1,8,15,18,19...|\n",
      "+---+---+-----------+---------+------+-----+------+----+-----+----+----------+-----+---+----+------------------------+------------------------+------------------------+------------------------+--------------------+--------------------+--------------------+-----+------+----+---+----------+------+-----+--------------------+--------------------+\n",
      "only showing top 2 rows\n",
      "\n"
     ]
    }
   ],
   "source": [
    "from pyspark.ml.feature import StandardScaler\n",
    "\n",
    "scale=StandardScaler(inputCol='features',outputCol='standardized')\n",
    "\n",
    "data_scale=scale.fit(assembled_data)\n",
    "data_scale_output=data_scale.transform(assembled_data)\n",
    "\n",
    "data_scale_output.show(2)"
   ]
  },
  {
   "cell_type": "code",
   "execution_count": 11,
   "metadata": {
    "colab": {
     "base_uri": "https://localhost:8080/"
    },
    "id": "UZPFdcmJyklD",
    "outputId": "ced1292c-b9f3-4552-e7b0-805890cd3e7d"
   },
   "outputs": [
    {
     "data": {
      "text/plain": [
       "Index(['99', 'New', 'Shiny Black', 'Turquoise', 'Silver', 'Green', 'Purple',\n",
       "       'Blue', 'White', 'Gold', 'Mint Green', 'Black', 'Red', 'Pink',\n",
       "       '6194877b0327b0eef3a53fe9', '61947f86613ccbeacb59e5b8',\n",
       "       '619487730327b0eef3a53fe4', '61947f8e613ccbeacb59e5bd', '_id', 'title',\n",
       "       'category', 'color', 'memory', 'pin', 'ram', 'screenSize', 'status',\n",
       "       'price', 'features', 'standardized'],\n",
       "      dtype='object')"
      ]
     },
     "execution_count": 11,
     "metadata": {},
     "output_type": "execute_result"
    }
   ],
   "source": [
    "data_scale_output.toPandas().columns"
   ]
  },
  {
   "cell_type": "code",
   "execution_count": 12,
   "metadata": {
    "id": "3PdKFQb-Coum"
   },
   "outputs": [],
   "source": [
    "datad = data_scale_output.select('_id', 'title', 'category', 'color', 'memory', 'pin', 'ram', 'screenSize', 'status', 'price', 'standardized')\n",
    "datf = datad.toPandas()"
   ]
  },
  {
   "cell_type": "code",
   "execution_count": 13,
   "metadata": {
    "colab": {
     "base_uri": "https://localhost:8080/",
     "height": 206
    },
    "id": "RUaxGhHZ3pau",
    "outputId": "12c5cb2b-7f0c-4486-b3da-3b9f97537486"
   },
   "outputs": [
    {
     "data": {
      "text/html": [
       "<div>\n",
       "<style scoped>\n",
       "    .dataframe tbody tr th:only-of-type {\n",
       "        vertical-align: middle;\n",
       "    }\n",
       "\n",
       "    .dataframe tbody tr th {\n",
       "        vertical-align: top;\n",
       "    }\n",
       "\n",
       "    .dataframe thead th {\n",
       "        text-align: right;\n",
       "    }\n",
       "</style>\n",
       "<table border=\"1\" class=\"dataframe\">\n",
       "  <thead>\n",
       "    <tr style=\"text-align: right;\">\n",
       "      <th></th>\n",
       "      <th>_id</th>\n",
       "      <th>title</th>\n",
       "      <th>category</th>\n",
       "      <th>color</th>\n",
       "      <th>memory</th>\n",
       "      <th>pin</th>\n",
       "      <th>ram</th>\n",
       "      <th>screenSize</th>\n",
       "      <th>status</th>\n",
       "      <th>price</th>\n",
       "      <th>standardized</th>\n",
       "    </tr>\n",
       "  </thead>\n",
       "  <tbody>\n",
       "    <tr>\n",
       "      <th>0</th>\n",
       "      <td>6194895c30e6b7130bb06add</td>\n",
       "      <td>iphone 13 pink</td>\n",
       "      <td>61947f86613ccbeacb59e5b8</td>\n",
       "      <td>Pink</td>\n",
       "      <td>128</td>\n",
       "      <td>3095</td>\n",
       "      <td>6</td>\n",
       "      <td>6.1</td>\n",
       "      <td>New</td>\n",
       "      <td>1100</td>\n",
       "      <td>(0.0, 3.2773069341672505, 0.0, 0.0, 0.0, 0.0, ...</td>\n",
       "    </tr>\n",
       "    <tr>\n",
       "      <th>1</th>\n",
       "      <td>61948b652d9fa1d9e7da2d3a</td>\n",
       "      <td>iphone 13 pro max white</td>\n",
       "      <td>61947f86613ccbeacb59e5b8</td>\n",
       "      <td>White</td>\n",
       "      <td>256</td>\n",
       "      <td>3300</td>\n",
       "      <td>6</td>\n",
       "      <td>6.3</td>\n",
       "      <td>New</td>\n",
       "      <td>1300</td>\n",
       "      <td>(0.0, 3.2773069341672505, 0.0, 0.0, 0.0, 0.0, ...</td>\n",
       "    </tr>\n",
       "    <tr>\n",
       "      <th>2</th>\n",
       "      <td>6194b8b0bb6b5b34d3a626b1</td>\n",
       "      <td>samsung galaxy z flip3 5g</td>\n",
       "      <td>619487730327b0eef3a53fe4</td>\n",
       "      <td>Black</td>\n",
       "      <td>128</td>\n",
       "      <td>3300</td>\n",
       "      <td>8</td>\n",
       "      <td>6.7</td>\n",
       "      <td>New</td>\n",
       "      <td>1050</td>\n",
       "      <td>(0.0, 3.2773069341672505, 0.0, 0.0, 0.0, 0.0, ...</td>\n",
       "    </tr>\n",
       "    <tr>\n",
       "      <th>3</th>\n",
       "      <td>6194b9aebb6b5b34d3a626b7</td>\n",
       "      <td>samsung galaxy a72 shiny black</td>\n",
       "      <td>619487730327b0eef3a53fe4</td>\n",
       "      <td>Shiny Black</td>\n",
       "      <td>256</td>\n",
       "      <td>5000</td>\n",
       "      <td>8</td>\n",
       "      <td>6.7</td>\n",
       "      <td>New</td>\n",
       "      <td>500</td>\n",
       "      <td>(0.0, 3.2773069341672505, 3.2773069341672505, ...</td>\n",
       "    </tr>\n",
       "    <tr>\n",
       "      <th>4</th>\n",
       "      <td>6194ba78bb6b5b34d3a626c8</td>\n",
       "      <td>samsung galaxy a72 turquoise</td>\n",
       "      <td>619487730327b0eef3a53fe4</td>\n",
       "      <td>Turquoise</td>\n",
       "      <td>256</td>\n",
       "      <td>5000</td>\n",
       "      <td>8</td>\n",
       "      <td>6.7</td>\n",
       "      <td>New</td>\n",
       "      <td>500</td>\n",
       "      <td>(0.0, 3.2773069341672505, 0.0, 3.9415370460918...</td>\n",
       "    </tr>\n",
       "  </tbody>\n",
       "</table>\n",
       "</div>"
      ],
      "text/plain": [
       "                        _id                           title  \\\n",
       "0  6194895c30e6b7130bb06add                  iphone 13 pink   \n",
       "1  61948b652d9fa1d9e7da2d3a         iphone 13 pro max white   \n",
       "2  6194b8b0bb6b5b34d3a626b1       samsung galaxy z flip3 5g   \n",
       "3  6194b9aebb6b5b34d3a626b7  samsung galaxy a72 shiny black   \n",
       "4  6194ba78bb6b5b34d3a626c8    samsung galaxy a72 turquoise   \n",
       "\n",
       "                   category        color  memory   pin  ram  screenSize  \\\n",
       "0  61947f86613ccbeacb59e5b8         Pink     128  3095    6         6.1   \n",
       "1  61947f86613ccbeacb59e5b8        White     256  3300    6         6.3   \n",
       "2  619487730327b0eef3a53fe4        Black     128  3300    8         6.7   \n",
       "3  619487730327b0eef3a53fe4  Shiny Black     256  5000    8         6.7   \n",
       "4  619487730327b0eef3a53fe4    Turquoise     256  5000    8         6.7   \n",
       "\n",
       "  status  price                                       standardized  \n",
       "0    New   1100  (0.0, 3.2773069341672505, 0.0, 0.0, 0.0, 0.0, ...  \n",
       "1    New   1300  (0.0, 3.2773069341672505, 0.0, 0.0, 0.0, 0.0, ...  \n",
       "2    New   1050  (0.0, 3.2773069341672505, 0.0, 0.0, 0.0, 0.0, ...  \n",
       "3    New    500  (0.0, 3.2773069341672505, 3.2773069341672505, ...  \n",
       "4    New    500  (0.0, 3.2773069341672505, 0.0, 3.9415370460918...  "
      ]
     },
     "execution_count": 13,
     "metadata": {},
     "output_type": "execute_result"
    }
   ],
   "source": [
    "datf.head(5)"
   ]
  },
  {
   "cell_type": "code",
   "execution_count": 42,
   "metadata": {
    "colab": {
     "base_uri": "https://localhost:8080/"
    },
    "id": "A1uyK_p9CoHy",
    "outputId": "3628ba43-dfda-48b7-c01f-6f83f10d6aa7"
   },
   "outputs": [
    {
     "data": {
      "text/plain": [
       "array([ 0.        ,  3.27730693,  0.        ,  0.        ,  0.        ,\n",
       "        0.        ,  0.        ,  0.        ,  0.        ,  0.        ,\n",
       "        0.        ,  0.        ,  0.        ,  5.47722558,  0.        ,\n",
       "        2.04026455,  0.        ,  0.        ,  0.54687462,  5.93650051,\n",
       "        2.97614954, 15.94060305,  1.80974879])"
      ]
     },
     "execution_count": 42,
     "metadata": {},
     "output_type": "execute_result"
    }
   ],
   "source": [
    "datf.iloc[0]['standardized'].toArray()"
   ]
  },
  {
   "cell_type": "code",
   "execution_count": 43,
   "metadata": {
    "colab": {
     "base_uri": "https://localhost:8080/"
    },
    "id": "33WKrw-YLCoD",
    "outputId": "3f813bc9-a75f-46a4-eb73-d18a1b79eda5"
   },
   "outputs": [
    {
     "data": {
      "text/plain": [
       "array([ 0.        ,  3.27730693,  0.        ,  0.        ,  0.        ,\n",
       "        0.        ,  0.        ,  0.        ,  2.89229746,  0.        ,\n",
       "        0.        ,  0.        ,  0.        ,  0.        ,  0.        ,\n",
       "        2.04026455,  0.        ,  0.        ,  1.09374923,  6.32970975,\n",
       "        2.97614954, 16.46324578,  2.13879403])"
      ]
     },
     "execution_count": 43,
     "metadata": {},
     "output_type": "execute_result"
    }
   ],
   "source": [
    "datf.iloc[1]['standardized'].toArray()"
   ]
  },
  {
   "cell_type": "code",
   "execution_count": 30,
   "metadata": {
    "colab": {
     "base_uri": "https://localhost:8080/"
    },
    "id": "KD-UXYDsEtUO",
    "outputId": "31bf19df-ac49-4ffd-b69d-a25118e70d0d"
   },
   "outputs": [
    {
     "data": {
      "text/plain": [
       "23"
      ]
     },
     "execution_count": 30,
     "metadata": {},
     "output_type": "execute_result"
    }
   ],
   "source": [
    "len(datf['standardized'][0].toArray())"
   ]
  },
  {
   "cell_type": "code",
   "execution_count": 31,
   "metadata": {
    "colab": {
     "base_uri": "https://localhost:8080/"
    },
    "id": "6bPLOXQcI6Cp",
    "outputId": "940302e1-418d-448d-a303-6d2993332a9b"
   },
   "outputs": [
    {
     "data": {
      "text/plain": [
       "SparseVector(23, {1: 3.2773, 13: 5.4772, 15: 2.0403, 18: 0.5469, 19: 5.9365, 20: 2.9761, 21: 15.9406, 22: 1.8097})"
      ]
     },
     "execution_count": 31,
     "metadata": {},
     "output_type": "execute_result"
    }
   ],
   "source": [
    "datf.iloc[0]['standardized']"
   ]
  },
  {
   "cell_type": "code",
   "execution_count": 32,
   "metadata": {
    "id": "KO7ImvXY1Lwi"
   },
   "outputs": [],
   "source": [
    "import numpy as np, pandas as pd\n",
    "import matplotlib.pyplot as plt, seaborn as sns\n",
    "from tqdm import tqdm\n",
    "import warnings\n",
    "warnings.filterwarnings(\"ignore\")\n",
    "\n",
    "class PhoneSimilarity():\n",
    "    def __init__(self, all_Data):\n",
    "        self.all_Data_ = all_Data\n",
    "    \n",
    "    def phone_similarity(self, phone_id, amount=1):\n",
    "        distances = []\n",
    "        phone = self.all_Data_[(self.all_Data_._id == phone_id)].head(1).values[0]\n",
    "        print(phone)\n",
    "        current_standardized_vector = phone[10].toArray()\n",
    "        res_data = self.all_Data_[self.all_Data_._id != phone_id]\n",
    "        countElement = 23 #23 of vector and 1 of predict\n",
    "        for r_phone in tqdm(res_data.values):\n",
    "            dist = 0\n",
    "            standardized_vector = r_phone[10].toArray()\n",
    "            for col in np.arange(23):\n",
    "                dist = dist + np.square(float(current_standardized_vector[col]) - float(standardized_vector[col]))\n",
    "            # dist = dist + np.square(float(phone[11]) - float(r_phone[11]))\n",
    "            dist = dist / countElement\n",
    "            dist = np.sqrt(dist)\n",
    "            distances.append(dist)\n",
    "        res_data['distance'] = distances\n",
    "        res_data = res_data.sort_values('distance')\n",
    "        print(res_data)\n",
    "        columns = ['_id', 'title', 'category', 'color', 'memory', 'pin', 'ram', 'screenSize', 'status', 'price','prediction']\n",
    "        return res_data[columns][:amount]"
   ]
  },
  {
   "cell_type": "code",
   "execution_count": 14,
   "metadata": {
    "id": "faL4hPV1Q8Ux"
   },
   "outputs": [],
   "source": [
    "#euclidean\n",
    "import numpy as np, pandas as pd\n",
    "import matplotlib.pyplot as plt, seaborn as sns\n",
    "from tqdm import tqdm\n",
    "import warnings\n",
    "warnings.filterwarnings(\"ignore\")\n",
    "\n",
    "class PhoneSimilarity():\n",
    "    def __init__(self, all_Data):\n",
    "        self.all_Data_ = all_Data\n",
    "    \n",
    "    def phone_similarity(self, phone_id, amount=1):\n",
    "        amount = amount + 1\n",
    "        distances = []\n",
    "        phone = self.all_Data_[(self.all_Data_._id == phone_id)].head(1).values[0]\n",
    "        phone_row = self.all_Data_[(self.all_Data_._id == phone_id)].head(1)\n",
    "        current_standardized_vector = np.array(phone[10].toArray())\n",
    "        res_data = self.all_Data_[self.all_Data_._id != phone_id]\n",
    "        countElement = 23 #23 of vector and 1 of predict\n",
    "        for r_phone in tqdm(res_data.values):\n",
    "            dist = 0\n",
    "            standardized_vector = np.array(r_phone[10].toArray())\n",
    "            # for col in np.arange(23):\n",
    "            #     dist = dist + np.square(float(current_standardized_vector[col]) - float(standardized_vector[col]))\n",
    "            # # dist = dist + np.square(float(phone[11]) - float(r_phone[11]))\n",
    "            # dist = dist / countElement\n",
    "            # dist = np.sqrt(dist)\n",
    "            dist = np.linalg.norm(current_standardized_vector-standardized_vector)\n",
    "            distances.append(dist)\n",
    "        res_data['distance'] = distances\n",
    "        phone_row['distance'] = 0\n",
    "        res_data = res_data.sort_values('distance')\n",
    "        bigdata = pd.concat([phone_row, res_data], ignore_index=True, sort=False)\n",
    "        columns = ['_id', 'title', 'category', 'color', 'memory', 'pin', 'ram', 'screenSize', 'status', 'price','distance']\n",
    "        return bigdata[columns][:amount]"
   ]
  },
  {
   "cell_type": "code",
   "execution_count": 15,
   "metadata": {
    "colab": {
     "base_uri": "https://localhost:8080/"
    },
    "id": "uNUfKjz24KhD",
    "outputId": "f089cb60-e859-4e3b-b3ec-2c4f5011be15"
   },
   "outputs": [
    {
     "name": "stderr",
     "output_type": "stream",
     "text": [
      "100%|█| 29/29 [00:00<00:00, 16239.63it\n"
     ]
    }
   ],
   "source": [
    "similarity = PhoneSimilarity(datf)\n",
    "x = '61948b652d9fa1d9e7da2d3a'\n",
    "similarity_phones = similarity.phone_similarity(x, 10)"
   ]
  },
  {
   "cell_type": "code",
   "execution_count": 16,
   "metadata": {},
   "outputs": [
    {
     "name": "stdout",
     "output_type": "stream",
     "text": [
      "                         _id                      title  \\\n",
      "0   61948b652d9fa1d9e7da2d3a    iphone 13 pro max white   \n",
      "1   6194c696bb6b5b34d3a62763    iphone 13 pro max white   \n",
      "2   6194c3b0bb6b5b34d3a62747    iphone 13 pro max white   \n",
      "3   6194c0e7bb6b5b34d3a62713     iphone 13 pro max gold   \n",
      "4   6194c059bb6b5b34d3a6270c     iphone 13 pro max gold   \n",
      "5   6194bce4bb6b5b34d3a626e4   samsung galaxy a72 white   \n",
      "6   6194c14cbb6b5b34d3a6271a     iphone 13 pro max gold   \n",
      "7   6194b8b0bb6b5b34d3a626b1  samsung galaxy z flip3 5g   \n",
      "8   6194bfd8bb6b5b34d3a62706     iphone 13 pro max blue   \n",
      "9   6194c722bb6b5b34d3a62769        oppo reno6 5g black   \n",
      "10  6194c9f0bb6b5b34d3a62786      oppo reno6 z 5g black   \n",
      "\n",
      "                    category  color  memory   pin  ram  screenSize status  \\\n",
      "0   61947f86613ccbeacb59e5b8  White     256  3300    6         6.3    New   \n",
      "1   61947f86613ccbeacb59e5b8  White     512  4325    6         6.7    New   \n",
      "2   61947f86613ccbeacb59e5b8  White    1024  4325    6         6.7    New   \n",
      "3   61947f86613ccbeacb59e5b8   Gold     256  4325    6         6.7    New   \n",
      "4   61947f86613ccbeacb59e5b8   Gold     128  4325    6         6.7    New   \n",
      "5   619487730327b0eef3a53fe4  White     256  5000    8         6.7    New   \n",
      "6   61947f86613ccbeacb59e5b8   Gold     512  4325    6         6.7    New   \n",
      "7   619487730327b0eef3a53fe4  Black     128  3300    8         6.7    New   \n",
      "8   61947f86613ccbeacb59e5b8   Blue     128  4325    6         6.7    New   \n",
      "9   61947f8e613ccbeacb59e5bd  Black     128  4300    8         6.4    New   \n",
      "10  61947f8e613ccbeacb59e5bd  Black     128  4310    8         6.4    New   \n",
      "\n",
      "    price  distance  \n",
      "0    1300  0.000000  \n",
      "1    1800  2.613607  \n",
      "2    2100  4.178143  \n",
      "3    1600  4.683197  \n",
      "4    1500  4.700646  \n",
      "5     500  4.817419  \n",
      "6    1800  4.854040  \n",
      "7    1050  5.071285  \n",
      "8    1500  5.409843  \n",
      "9     510  5.597437  \n",
      "10    460  5.623687  \n"
     ]
    }
   ],
   "source": [
    "print(similarity_phones)"
   ]
  },
  {
   "cell_type": "code",
   "execution_count": 17,
   "metadata": {},
   "outputs": [],
   "source": [
    "kafka_topic_name = \"clickcount\"\n",
    "kafka_bootstrap_servers = 'localhost:9092'\n",
    "\n",
    "# Construct a streaming DataFrame that reads from topic\n",
    "flower_df = spark \\\n",
    "        .readStream \\\n",
    "        .format(\"kafka\") \\\n",
    "        .option(\"kafka.bootstrap.servers\", kafka_bootstrap_servers) \\\n",
    "        .option(\"subscribe\", kafka_topic_name) \\\n",
    "        .option(\"startingOffsets\", \"latest\") \\\n",
    "        .load()"
   ]
  },
  {
   "cell_type": "code",
   "execution_count": 18,
   "metadata": {},
   "outputs": [],
   "source": [
    "def process_row(row):\n",
    "#     print(type(row))\n",
    "#     print(row)\n",
    "    value = row['value'].decode(\"utf-8\")\n",
    "    first_element = value.split(',')[0]\n",
    "    similarity_phones = similarity.phone_similarity(first_element, 10)\n",
    "    print(similarity_phones)\n",
    "    pass\n",
    "query = flower_df.writeStream.foreach(process_row).start()"
   ]
  },
  {
   "cell_type": "code",
   "execution_count": null,
   "metadata": {},
   "outputs": [],
   "source": []
  }
 ],
 "metadata": {
  "colab": {
   "collapsed_sections": [],
   "name": "Phone Similarity data json.ipynb",
   "provenance": []
  },
  "kernelspec": {
   "display_name": "Python 3",
   "language": "python",
   "name": "python3"
  },
  "language_info": {
   "codemirror_mode": {
    "name": "ipython",
    "version": 3
   },
   "file_extension": ".py",
   "mimetype": "text/x-python",
   "name": "python",
   "nbconvert_exporter": "python",
   "pygments_lexer": "ipython3",
   "version": "3.6.8"
  }
 },
 "nbformat": 4,
 "nbformat_minor": 1
}
